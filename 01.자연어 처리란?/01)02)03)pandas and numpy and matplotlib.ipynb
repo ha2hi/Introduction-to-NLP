{
  "nbformat": 4,
  "nbformat_minor": 0,
  "metadata": {
    "colab": {
      "name": "01.natural language processing.ipynb",
      "private_outputs": true,
      "provenance": [],
      "collapsed_sections": [],
      "authorship_tag": "ABX9TyPXG/8lebuHiURI4/M3GBcT",
      "include_colab_link": true
    },
    "kernelspec": {
      "name": "python3",
      "display_name": "Python 3"
    },
    "language_info": {
      "name": "python"
    }
  },
  "cells": [
    {
      "cell_type": "markdown",
      "metadata": {
        "id": "view-in-github",
        "colab_type": "text"
      },
      "source": [
        "<a href=\"https://colab.research.google.com/github/ha2hi/Introduction-to-NLP/blob/main/01_natural_language_processing.ipynb\" target=\"_parent\"><img src=\"https://colab.research.google.com/assets/colab-badge.svg\" alt=\"Open In Colab\"/></a>"
      ]
    },
    {
      "cell_type": "markdown",
      "metadata": {
        "id": "ReZLYOlhBTJk"
      },
      "source": [
        "# 1), 2), 3) 라이브러리"
      ]
    },
    {
      "cell_type": "code",
      "metadata": {
        "id": "Ckzz7Srtmnp3"
      },
      "source": [
        "pip install nltk"
      ],
      "execution_count": null,
      "outputs": []
    },
    {
      "cell_type": "code",
      "metadata": {
        "id": "l0bwUOM-mrpG"
      },
      "source": [
        "pip install konlpy"
      ],
      "execution_count": null,
      "outputs": []
    },
    {
      "cell_type": "code",
      "metadata": {
        "id": "qWKSb0PIoMpQ"
      },
      "source": [
        "import tensorflow as tf\n",
        "import keras \n",
        "import gensim\n",
        "import sklearn\n",
        "import nltk # 자연어 처리를 위한 파이썬 패키지\n",
        "import pandas as pd\n",
        "import numpy as np"
      ],
      "execution_count": null,
      "outputs": []
    },
    {
      "cell_type": "code",
      "metadata": {
        "id": "lxxq0KQjnM1w"
      },
      "source": [
        "nltk.download('punkt')"
      ],
      "execution_count": null,
      "outputs": []
    },
    {
      "cell_type": "code",
      "metadata": {
        "id": "iiK6HhxOBSMi"
      },
      "source": [
        ""
      ],
      "execution_count": null,
      "outputs": []
    },
    {
      "cell_type": "markdown",
      "metadata": {
        "id": "0PJSJmeoBHWX"
      },
      "source": [
        "# 4) pandas and numpy as matplotlib"
      ]
    },
    {
      "cell_type": "markdown",
      "metadata": {
        "id": "usSDCH8rgzSu"
      },
      "source": [
        "### 1. 판다스(Pandas)\n",
        "- 판다스는 파이썬 데이터 처리를 위한 라이브러리 입니다.\n",
        "- 종류\n",
        "    - 시리즈(Series)\n",
        "    - 데이터프레임(DataFrame)\n",
        "    - 패널(Panel)"
      ]
    },
    {
      "cell_type": "code",
      "metadata": {
        "id": "a_zhKgkgdXbD"
      },
      "source": [
        "# 1.시리즈(Series)\n",
        "sr = pd.Series([17000, 18000, 1000, 5000], index = ['피자', '치킨', '콜라', '맥주'])\n",
        "print(sr)"
      ],
      "execution_count": null,
      "outputs": []
    },
    {
      "cell_type": "code",
      "metadata": {
        "id": "I8elHX6DdXuZ"
      },
      "source": [
        "print(sr.values)"
      ],
      "execution_count": null,
      "outputs": []
    },
    {
      "cell_type": "code",
      "metadata": {
        "id": "bEvePbTph7Df"
      },
      "source": [
        "print(sr.index)"
      ],
      "execution_count": null,
      "outputs": []
    },
    {
      "cell_type": "code",
      "metadata": {
        "id": "tWFdTGSih9SQ"
      },
      "source": [
        ""
      ],
      "execution_count": null,
      "outputs": []
    },
    {
      "cell_type": "code",
      "metadata": {
        "id": "5f4ww9kxiDJb"
      },
      "source": [
        "# 2.데이터프레임(DataFrame)\n",
        "values = [[1,2,3], [4,5,6], [7,8,9]]\n",
        "index = ['one', 'two', 'three']\n",
        "columns = ['A', 'B', 'C']\n",
        "df = pd.DataFrame(values, index = index, columns = columns)\n",
        "print(df)"
      ],
      "execution_count": null,
      "outputs": []
    },
    {
      "cell_type": "code",
      "metadata": {
        "id": "wJ9fG8cUicjp"
      },
      "source": [
        "print(df.index)"
      ],
      "execution_count": null,
      "outputs": []
    },
    {
      "cell_type": "code",
      "metadata": {
        "id": "jusinHj0i5Ux"
      },
      "source": [
        "print(df.columns)"
      ],
      "execution_count": null,
      "outputs": []
    },
    {
      "cell_type": "code",
      "metadata": {
        "id": "A96kP_sbi65P"
      },
      "source": [
        "print(df.values)"
      ],
      "execution_count": null,
      "outputs": []
    },
    {
      "cell_type": "code",
      "metadata": {
        "id": "COpy7EpujCA_"
      },
      "source": [
        ""
      ],
      "execution_count": null,
      "outputs": []
    },
    {
      "cell_type": "code",
      "metadata": {
        "id": "Y_hCg5aJjL9a"
      },
      "source": [
        "# 3. 데이터프레임의 생성\n",
        "data = [\n",
        "        ['1000', 'Steve', 90.72],\n",
        "        ['1001', 'James', 78.09],\n",
        "        ['1002', 'Doyeon', 98.43],\n",
        "        ['1003', 'Jane', 64.19],\n",
        "        ['1004', 'Pilwoong', 81.30],\n",
        "        ['1005', 'Tony', 99.14],\n",
        "]\n",
        "df = pd.DataFrame(data)\n",
        "print(df)"
      ],
      "execution_count": null,
      "outputs": []
    },
    {
      "cell_type": "code",
      "metadata": {
        "id": "95opy0XukEqp"
      },
      "source": [
        "df = pd.DataFrame(data, columns = ['학번', '이름', '점수'])\n",
        "print(df)"
      ],
      "execution_count": null,
      "outputs": []
    },
    {
      "cell_type": "code",
      "metadata": {
        "id": "kywBee0ckQ_w"
      },
      "source": [
        "# 딕셔너리를 통해 데이터프레임 생성\n",
        "data = {\n",
        "    '학번' : [1000, 1001, 1002, 1003, 1004, 1005],\n",
        "    '이름' : ['Steve', 'James', 'Doyeon', 'Jane', 'Pilwoong', 'Tony'],\n",
        "    '점수' : [90.72, 78.09, 98.43, 64.19, 81.30, 99.14]\n",
        "    }\n",
        "df = pd.DataFrame(data)\n",
        "print(df)"
      ],
      "execution_count": null,
      "outputs": []
    },
    {
      "cell_type": "markdown",
      "metadata": {
        "id": "No5e6XrmlaUY"
      },
      "source": [
        ""
      ]
    },
    {
      "cell_type": "code",
      "metadata": {
        "id": "qIH5ehLglaqn"
      },
      "source": [
        ""
      ],
      "execution_count": null,
      "outputs": []
    },
    {
      "cell_type": "code",
      "metadata": {
        "id": "lL97F5zvk1x5"
      },
      "source": [
        "# 4.데이터프레임 조회하기\n",
        "# df.head(n) : 앞 부분을 n개만 보기\n",
        "# df.tail(n) : 뒷 부분을 n개만 보기\n",
        "# df['열이름'] : 해당되는 열을 확인"
      ],
      "execution_count": null,
      "outputs": []
    },
    {
      "cell_type": "code",
      "metadata": {
        "id": "MooIw3ZSlGIY"
      },
      "source": [
        "print(df.head(3)) # 앞 부분을 3개만 보기"
      ],
      "execution_count": null,
      "outputs": []
    },
    {
      "cell_type": "code",
      "metadata": {
        "id": "0nAFQ1CXlKDC"
      },
      "source": [
        "print(df.tail(3)) # 뒷 부분을 3개만 보기"
      ],
      "execution_count": null,
      "outputs": []
    },
    {
      "cell_type": "code",
      "metadata": {
        "id": "-mXBDzRTlORp"
      },
      "source": [
        "print(df['학번']) # '학번'에 해당되는 열을 보기"
      ],
      "execution_count": null,
      "outputs": []
    },
    {
      "cell_type": "code",
      "metadata": {
        "id": "ad1eePW-lSwx"
      },
      "source": [
        ""
      ],
      "execution_count": null,
      "outputs": []
    },
    {
      "cell_type": "code",
      "metadata": {
        "id": "0Lkk4-ualdN3"
      },
      "source": [
        "# 5. 외부 데이터 읽기\n",
        "# pandas는 csv, 텍스트, Excel, SQL, HTML, JSON 등 다양한 데이터 파일을 읽고 데이터 프레임을 생성할 수 있습니다.\n",
        "# pd.read_csv('파일명.csv)"
      ],
      "execution_count": null,
      "outputs": []
    },
    {
      "cell_type": "code",
      "metadata": {
        "id": "VUFX7Sd4nai-"
      },
      "source": [
        ""
      ],
      "execution_count": null,
      "outputs": []
    },
    {
      "cell_type": "markdown",
      "metadata": {
        "id": "ufSOJxdqnqHq"
      },
      "source": [
        "### 2. 넘파이(Numpy)\n",
        "- 넘파이는 수치 데이터를 다루는 파이썬 패키지입니다.\n",
        "- np.array() : 리스트, 튜플, 배열로 부터 ndarray를 생성\n",
        "- np.asarray() : 기존의 array로 부터 ndarray를 생성\n",
        "- np.arange : range와 비슷\n",
        "- np.linspace(start, end, num) : [start,end] 균일한 간격으로 num개 생성\n",
        "- np.logspace(start, end, num) : [start, end] log scale 간격으로 num개 생성"
      ]
    },
    {
      "cell_type": "code",
      "metadata": {
        "id": "6l1xuhMGno6J"
      },
      "source": [
        "# 1. np.array()\n",
        "a = np.array([1,2,3,4,5])\n",
        "print(type(a))\n",
        "print(a)"
      ],
      "execution_count": null,
      "outputs": []
    },
    {
      "cell_type": "code",
      "metadata": {
        "id": "vV5aQzPDpQDi"
      },
      "source": [
        "b = np.array([[10,20.30], [60,70,80]])\n",
        "print(b)"
      ],
      "execution_count": null,
      "outputs": []
    },
    {
      "cell_type": "code",
      "metadata": {
        "id": "QShJ49jBpZyl"
      },
      "source": [
        "print(a.ndim) # 차원 출력\n",
        "print(a.shape) # 크기 출력"
      ],
      "execution_count": null,
      "outputs": []
    },
    {
      "cell_type": "code",
      "metadata": {
        "id": "COwbn6aSrMHP"
      },
      "source": [
        ""
      ],
      "execution_count": null,
      "outputs": []
    },
    {
      "cell_type": "code",
      "metadata": {
        "id": "ZHari7OarNI8"
      },
      "source": [
        "# 2. ndarray의 초기화\n",
        "a = np.zeros((2,3))\n",
        "print(a)"
      ],
      "execution_count": null,
      "outputs": []
    },
    {
      "cell_type": "code",
      "metadata": {
        "id": "TtpvOYGtrNhX"
      },
      "source": [
        "a = np.ones((2,3))\n",
        "print(a)"
      ],
      "execution_count": null,
      "outputs": []
    },
    {
      "cell_type": "code",
      "metadata": {
        "id": "jc5VeGVK5t0d"
      },
      "source": [
        "a = np.full((2,2), 7)\n",
        "print(a)"
      ],
      "execution_count": null,
      "outputs": []
    },
    {
      "cell_type": "code",
      "metadata": {
        "id": "DVvytk5y50vk"
      },
      "source": [
        "a = np.eye(3)\n",
        "print(a)"
      ],
      "execution_count": null,
      "outputs": []
    },
    {
      "cell_type": "code",
      "metadata": {
        "id": "Ic9YtiUd54UU"
      },
      "source": [
        "a = np.random.random((2,2))\n",
        "print(a)"
      ],
      "execution_count": null,
      "outputs": []
    },
    {
      "cell_type": "code",
      "metadata": {
        "id": "MNPQDkK56Klt"
      },
      "source": [
        ""
      ],
      "execution_count": null,
      "outputs": []
    },
    {
      "cell_type": "code",
      "metadata": {
        "id": "8tPq90K66PX7"
      },
      "source": [
        "# 3. np.arange() : 지정해준 범위에 대해서 배열을 생성합니다.\n",
        "# numpy.arage(start, stop, step, dtype)\n",
        "a = np.arange(10)\n",
        "print(a)"
      ],
      "execution_count": null,
      "outputs": []
    },
    {
      "cell_type": "code",
      "metadata": {
        "id": "kWqiINFE6myd"
      },
      "source": [
        "a = np.arange(1, 10, 2)\n",
        "print(a)"
      ],
      "execution_count": null,
      "outputs": []
    },
    {
      "cell_type": "code",
      "metadata": {
        "id": "imWtXS8k7oeY"
      },
      "source": [
        ""
      ],
      "execution_count": null,
      "outputs": []
    },
    {
      "cell_type": "code",
      "metadata": {
        "id": "K6Ki2xPt7pnF"
      },
      "source": [
        "# 4.reshape()\n",
        "a = np.array(np.arange(30)).reshape(5, 6)\n",
        "print(a)"
      ],
      "execution_count": null,
      "outputs": []
    },
    {
      "cell_type": "code",
      "metadata": {
        "id": "1NQX-mJQ7xTU"
      },
      "source": [
        ""
      ],
      "execution_count": null,
      "outputs": []
    },
    {
      "cell_type": "code",
      "metadata": {
        "id": "kg3L-D_S77XO"
      },
      "source": [
        "# 5.Numpy 슬라이싱\n",
        "a = np.array([[1,2,3], [4,5,6]])\n",
        "b = a[0:2, 0:2]\n",
        "print(b)"
      ],
      "execution_count": null,
      "outputs": []
    },
    {
      "cell_type": "code",
      "metadata": {
        "id": "LjBpcIkS8NzU"
      },
      "source": [
        "b = a[0, :]\n",
        "print(b)"
      ],
      "execution_count": null,
      "outputs": []
    },
    {
      "cell_type": "code",
      "metadata": {
        "id": "acu0bM7s8n8s"
      },
      "source": [
        "b = a[:, 1]\n",
        "print(b)"
      ],
      "execution_count": null,
      "outputs": []
    },
    {
      "cell_type": "code",
      "metadata": {
        "id": "A6nliTpK8rLM"
      },
      "source": [
        ""
      ],
      "execution_count": null,
      "outputs": []
    },
    {
      "cell_type": "code",
      "metadata": {
        "id": "9WdM1l0O8vy-"
      },
      "source": [
        "# 6. Numpy 정수 인덱싱(integer indexing)\n",
        "a = np.array([[1,2], [4,5], [7,8]])\n",
        "print(a)"
      ],
      "execution_count": null,
      "outputs": []
    },
    {
      "cell_type": "code",
      "metadata": {
        "id": "FcJoK1ic88oT"
      },
      "source": [
        "b = a[[2,1],[1,0]] # a[row2, row1], [col1, col0]을 의미함.\n",
        "print(b)"
      ],
      "execution_count": null,
      "outputs": []
    },
    {
      "cell_type": "code",
      "metadata": {
        "id": "r5dbJbOO9d37"
      },
      "source": [
        ""
      ],
      "execution_count": null,
      "outputs": []
    },
    {
      "cell_type": "code",
      "metadata": {
        "id": "yLnL3si79qdU"
      },
      "source": [
        "# 7.Numpy 연산\n",
        "# Numpy를 사용하면 배열간 연산을 손쉽게 수행할 수 있습니다.\n",
        "x = np.array([1,2,3])\n",
        "y = np.array([4,5,6])"
      ],
      "execution_count": null,
      "outputs": []
    },
    {
      "cell_type": "code",
      "metadata": {
        "id": "YqM0mvGW90o0"
      },
      "source": [
        "b = x + y # 각 요소에 대해서 더함\n",
        "print(b)"
      ],
      "execution_count": null,
      "outputs": []
    },
    {
      "cell_type": "code",
      "metadata": {
        "id": "BgX_Io2_93Qb"
      },
      "source": [
        "b = x - y # 각 요소에 대해서 빼기\n",
        "print(b)"
      ],
      "execution_count": null,
      "outputs": []
    },
    {
      "cell_type": "code",
      "metadata": {
        "id": "dAH8H85b9_MP"
      },
      "source": [
        "b = b * x # 각 요소에 대해서 곱셈\n",
        "print(b)"
      ],
      "execution_count": null,
      "outputs": []
    },
    {
      "cell_type": "code",
      "metadata": {
        "id": "YSmTVrM9-NOG"
      },
      "source": [
        "b = b / x # 각 요소에 대해서 나눗셈\n",
        "print(b)"
      ],
      "execution_count": null,
      "outputs": []
    },
    {
      "cell_type": "code",
      "metadata": {
        "id": "Q99zWZSN-SL7"
      },
      "source": [
        "a = np.array([[1,2], [3,4]])\n",
        "b = np.array([[5,6], [7,8]])\n",
        "c = np.dot(a, b)\n",
        "print(c)"
      ],
      "execution_count": null,
      "outputs": []
    },
    {
      "cell_type": "code",
      "metadata": {
        "id": "sFUYnQXG-0nV"
      },
      "source": [
        ""
      ],
      "execution_count": null,
      "outputs": []
    },
    {
      "cell_type": "markdown",
      "metadata": {
        "id": "kmfYIylY-zj9"
      },
      "source": [
        "### 맷플롯립(Matplotlib)\n",
        "- 맷플롯립은 데이터를 차트나 플롯으로 시각화하는 패키지입니다."
      ]
    },
    {
      "cell_type": "code",
      "metadata": {
        "id": "ovcvKRD3-x3V"
      },
      "source": [
        "import matplotlib as mpl\n",
        "import matplotlib.pyplot as plt"
      ],
      "execution_count": null,
      "outputs": []
    },
    {
      "cell_type": "code",
      "metadata": {
        "id": "jFx9OncN_EJU"
      },
      "source": [
        ""
      ],
      "execution_count": null,
      "outputs": []
    },
    {
      "cell_type": "code",
      "metadata": {
        "id": "24I3GCKW_P0N"
      },
      "source": [
        "# 1. 라인 플롯 그리기\n",
        "plt.title('test')\n",
        "plt.plot([1,2,3,4], [2,4,8,6])\n",
        "plt.show()"
      ],
      "execution_count": null,
      "outputs": []
    },
    {
      "cell_type": "code",
      "metadata": {
        "id": "2_AUHjvn_gt7"
      },
      "source": [
        ""
      ],
      "execution_count": null,
      "outputs": []
    },
    {
      "cell_type": "code",
      "metadata": {
        "id": "ptEmyb5m_1HV"
      },
      "source": [
        "# 2. 축 레이블 삽입하기\n",
        "plt.title('test')\n",
        "plt.plot([1,2,3,4], [2,4,8,6])\n",
        "plt.xlabel('hours')\n",
        "plt.ylabel('score')\n",
        "plt.show()"
      ],
      "execution_count": null,
      "outputs": []
    },
    {
      "cell_type": "code",
      "metadata": {
        "id": "gN1OB1CDAOys"
      },
      "source": [
        ""
      ],
      "execution_count": null,
      "outputs": []
    },
    {
      "cell_type": "code",
      "metadata": {
        "id": "iUTJTEK0AEif"
      },
      "source": [
        "# 3. 라인 추가와 범례 삽입하기\n",
        "plt.title('students')\n",
        "plt.plot([1,2,3,4],[2,4,8,6])\n",
        "plt.plot([1.5, 2.5, 3.5, 4.5], [3,5,8,10])\n",
        "plt.xlabel('hours')\n",
        "plt.ylabel('score')\n",
        "plt.legend(['A student', 'B student'])\n",
        "plt.show()"
      ],
      "execution_count": null,
      "outputs": []
    },
    {
      "cell_type": "code",
      "metadata": {
        "id": "BLsRqrYeAvPT"
      },
      "source": [
        ""
      ],
      "execution_count": null,
      "outputs": []
    }
  ]
}
