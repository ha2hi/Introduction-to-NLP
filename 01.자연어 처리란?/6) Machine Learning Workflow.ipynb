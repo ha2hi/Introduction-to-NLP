{
 "cells": [
  {
   "cell_type": "markdown",
   "id": "distinguished-bundle",
   "metadata": {},
   "source": [
    "# 6) 머신 러닝 워크플로우(Machine Learning Workflow)\n",
    "- 이번 챕터에서는 데이터 사이언스 또는 머신 러닝 과정에서 거치는 전반적인 과정에 대해서 알아보겠습니다.\n",
    "- 딥러닝 또한 머신 러닝의 한 갈래로 딥러닝 워크플로우 또한 머신 러닝 워크플로우로 간주 할 수 있습니다."
   ]
  },
  {
   "cell_type": "code",
   "execution_count": null,
   "id": "excellent-drain",
   "metadata": {},
   "outputs": [],
   "source": []
  },
  {
   "cell_type": "markdown",
   "id": "occupied-springer",
   "metadata": {},
   "source": [
    "### 1. 머신 러닝 워크플로우(Machine Learning Workflow)\n",
    "- 1. 수집\n",
    "    - 자연어 처리의 경우, 자연어 데이터를 말뭉치 또는 코퍼스(corpus)라고 부릅니다.\n",
    "    - 코퍼스란 조사나 연구 목적에 의해서 특정 도메인으로부터 수집된 텍스트 집합을 말합니다.\n",
    "- 2. 점검 및 탐색(탐색적 데이터 분석)\n",
    "    - 데이터가 수집되었다면, 이제 데이터를 점검하고 탐색하는 단계입니다.\n",
    "- 3. 전처리 및 정제\n",
    "    - 자연어 처리라면 토큰화, 정제, 정규화, 불용어 제거 등의 단계를 포함합니다.\n",
    "- 4. 모델링 및 훈련\n",
    "    - 적절한 머신 러닝 알고리즘을 선택하여 모델링이 끝났다면, 전처리가 완료 된 데이터를 머신 러닝 알고리즘을 통해 기계에게 학습 시킵니다.\n",
    "- 평가 \n",
    "    - 기계가 다 학습이 되었다면 테스트용 데이터로 성능을 평하게 됩니다.(과적합 방지)\n",
    "- 배포\n",
    "    - 완성된 모델이 배포되는 단계가 됩니다.\n",
    "    "
   ]
  },
  {
   "cell_type": "code",
   "execution_count": null,
   "id": "binary-safety",
   "metadata": {},
   "outputs": [],
   "source": []
  }
 ],
 "metadata": {
  "kernelspec": {
   "display_name": "Python 3",
   "language": "python",
   "name": "python3"
  },
  "language_info": {
   "codemirror_mode": {
    "name": "ipython",
    "version": 3
   },
   "file_extension": ".py",
   "mimetype": "text/x-python",
   "name": "python",
   "nbconvert_exporter": "python",
   "pygments_lexer": "ipython3",
   "version": "3.7.10"
  }
 },
 "nbformat": 4,
 "nbformat_minor": 5
}
